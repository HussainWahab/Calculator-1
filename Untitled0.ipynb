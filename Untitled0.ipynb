{
  "nbformat": 4,
  "nbformat_minor": 0,
  "metadata": {
    "colab": {
      "provenance": []
    },
    "kernelspec": {
      "name": "python3",
      "display_name": "Python 3"
    },
    "language_info": {
      "name": "python"
    }
  },
  "cells": [
    {
      "cell_type": "code",
      "execution_count": 11,
      "metadata": {
        "id": "9EzopQn79UEO"
      },
      "outputs": [],
      "source": [
        "student={\n",
        "    \"name\":\"Hussain\",\n",
        "    \"course\":\"IOT\",\n",
        "    \"age\":\"22\"\n",
        "}\n",
        "\n",
        "student[\"name\"]\n",
        "student\n"
      ]
    },
    {
      "cell_type": "code",
      "source": [
        "student[\"floor\"]=\"third\"\n",
        "student"
      ],
      "metadata": {
        "colab": {
          "base_uri": "https://localhost:8080/"
        },
        "id": "bCf7kJVFFi_H",
        "outputId": "b3e9fca3-4d42-4832-9121-82fb73ca3433"
      },
      "execution_count": 12,
      "outputs": [
        {
          "output_type": "execute_result",
          "data": {
            "text/plain": [
              "{'name': 'Hussain', 'course': 'IOT', 'age': '22', 'floor': 'third'}"
            ]
          },
          "metadata": {},
          "execution_count": 12
        }
      ]
    },
    {
      "cell_type": "code",
      "source": [
        "student={\n",
        "    \"name\":\"Hussain\",\n",
        "    \"course\":\"IOT\",\n",
        "    \"age\":\"22\"\n",
        "}\n",
        "\n",
        "del student[\"age\"]\n",
        "student"
      ],
      "metadata": {
        "colab": {
          "base_uri": "https://localhost:8080/"
        },
        "id": "SYBYQexzHXig",
        "outputId": "172a7974-79bb-4034-ee1e-c03f3f569d11"
      },
      "execution_count": 22,
      "outputs": [
        {
          "output_type": "execute_result",
          "data": {
            "text/plain": [
              "{'name': 'Hussain', 'course': 'IOT'}"
            ]
          },
          "metadata": {},
          "execution_count": 22
        }
      ]
    },
    {
      "cell_type": "code",
      "source": [
        "student.keys()"
      ],
      "metadata": {
        "colab": {
          "base_uri": "https://localhost:8080/"
        },
        "id": "s94f5VeOHwZ2",
        "outputId": "ccbc7a0f-8dc7-47d1-ecaa-e3d63156f514"
      },
      "execution_count": 14,
      "outputs": [
        {
          "output_type": "execute_result",
          "data": {
            "text/plain": [
              "dict_keys(['name', 'course'])"
            ]
          },
          "metadata": {},
          "execution_count": 14
        }
      ]
    },
    {
      "cell_type": "code",
      "source": [
        "student.values()"
      ],
      "metadata": {
        "colab": {
          "base_uri": "https://localhost:8080/"
        },
        "id": "BmSdPlEZH9hf",
        "outputId": "e8c6d32d-68d6-498e-c40d-af3e2634e0e3"
      },
      "execution_count": 16,
      "outputs": [
        {
          "output_type": "execute_result",
          "data": {
            "text/plain": [
              "dict_values(['Hussain', 'IOT'])"
            ]
          },
          "metadata": {},
          "execution_count": 16
        }
      ]
    },
    {
      "cell_type": "code",
      "source": [
        "for i in student.keys():\n",
        "  print(i)"
      ],
      "metadata": {
        "colab": {
          "base_uri": "https://localhost:8080/"
        },
        "id": "yAD3EWRrID7W",
        "outputId": "b178a640-6e88-4e77-89bf-2e3caaabfef8"
      },
      "execution_count": 20,
      "outputs": [
        {
          "output_type": "stream",
          "name": "stdout",
          "text": [
            "name\n",
            "course\n"
          ]
        }
      ]
    },
    {
      "cell_type": "code",
      "source": [
        "for i in student.values():\n",
        "  print(i)"
      ],
      "metadata": {
        "colab": {
          "base_uri": "https://localhost:8080/"
        },
        "id": "Xa54ENjOITBO",
        "outputId": "4cfc2891-28b2-486e-906c-aef2e6d66393"
      },
      "execution_count": 21,
      "outputs": [
        {
          "output_type": "stream",
          "name": "stdout",
          "text": [
            "Hussain\n",
            "IOT\n"
          ]
        }
      ]
    },
    {
      "cell_type": "code",
      "source": [
        "\n",
        "data = [{\n",
        "    \"name\" : \"Hussain\",\n",
        "    \"Course\" : \"IOT\"\n",
        "      },{\n",
        "    \"name\" : \"Ali\",\n",
        "    \"course\" : \"IOT\"\n",
        "      }]\n"
      ],
      "metadata": {
        "id": "J2bGhpnoI0OO"
      },
      "execution_count": 30,
      "outputs": []
    },
    {
      "cell_type": "code",
      "source": [
        "data[0][\"name\"]"
      ],
      "metadata": {
        "colab": {
          "base_uri": "https://localhost:8080/",
          "height": 35
        },
        "id": "ZyKmquAmKRBm",
        "outputId": "5aa0b09f-2946-4e7f-8ddd-ef87084685ab"
      },
      "execution_count": 31,
      "outputs": [
        {
          "output_type": "execute_result",
          "data": {
            "text/plain": [
              "'Hussain'"
            ],
            "application/vnd.google.colaboratory.intrinsic+json": {
              "type": "string"
            }
          },
          "metadata": {},
          "execution_count": 31
        }
      ]
    },
    {
      "cell_type": "code",
      "source": [
        "data[1][\"course\"]"
      ],
      "metadata": {
        "colab": {
          "base_uri": "https://localhost:8080/",
          "height": 35
        },
        "id": "BUfoWx4rK2kG",
        "outputId": "f86d368b-a48c-4e7e-8438-705708409baa"
      },
      "execution_count": 33,
      "outputs": [
        {
          "output_type": "execute_result",
          "data": {
            "text/plain": [
              "'IOT'"
            ],
            "application/vnd.google.colaboratory.intrinsic+json": {
              "type": "string"
            }
          },
          "metadata": {},
          "execution_count": 33
        }
      ]
    },
    {
      "cell_type": "code",
      "source": [
        "dict1 = {\n",
        "    \"name\":[\"Ali\",\"Bilal\",\"Ahmed\"],\n",
        "    \"class\" : \"IOT\"\n",
        "}"
      ],
      "metadata": {
        "id": "j1IkXVFOLbZO"
      },
      "execution_count": 34,
      "outputs": []
    },
    {
      "cell_type": "code",
      "source": [
        " dict1[\"name\"][1]"
      ],
      "metadata": {
        "colab": {
          "base_uri": "https://localhost:8080/",
          "height": 35
        },
        "id": "pYYXXI-FL7s-",
        "outputId": "84fe9dfb-ca6a-4dec-bd99-f967b4c48274"
      },
      "execution_count": 37,
      "outputs": [
        {
          "output_type": "execute_result",
          "data": {
            "text/plain": [
              "'Bilal'"
            ],
            "application/vnd.google.colaboratory.intrinsic+json": {
              "type": "string"
            }
          },
          "metadata": {},
          "execution_count": 37
        }
      ]
    },
    {
      "cell_type": "code",
      "source": [
        " dict1[\"name\"][2]"
      ],
      "metadata": {
        "colab": {
          "base_uri": "https://localhost:8080/",
          "height": 35
        },
        "id": "4FhyHm1ZMIiO",
        "outputId": "1046e29f-e230-4aa2-dda8-db4ceb81d8c5"
      },
      "execution_count": 41,
      "outputs": [
        {
          "output_type": "execute_result",
          "data": {
            "text/plain": [
              "'Ahmed'"
            ],
            "application/vnd.google.colaboratory.intrinsic+json": {
              "type": "string"
            }
          },
          "metadata": {},
          "execution_count": 41
        }
      ]
    },
    {
      "cell_type": "code",
      "source": [
        " dict1[\"class\"][2]"
      ],
      "metadata": {
        "colab": {
          "base_uri": "https://localhost:8080/",
          "height": 35
        },
        "id": "tF_q_fyNMa62",
        "outputId": "3b5052fd-3d42-4cdb-d6e9-65781c5405d7"
      },
      "execution_count": 42,
      "outputs": [
        {
          "output_type": "execute_result",
          "data": {
            "text/plain": [
              "'T'"
            ],
            "application/vnd.google.colaboratory.intrinsic+json": {
              "type": "string"
            }
          },
          "metadata": {},
          "execution_count": 42
        }
      ]
    },
    {
      "cell_type": "code",
      "source": [
        "def add():\n",
        " a,b=2,3\n",
        " result=a+b\n",
        " print('answer is:' , result)\n",
        "add()"
      ],
      "metadata": {
        "colab": {
          "base_uri": "https://localhost:8080/"
        },
        "id": "gtp85rulM0Yy",
        "outputId": "25a4807f-a76d-47ff-a57c-9500ccbc616d"
      },
      "execution_count": 43,
      "outputs": [
        {
          "output_type": "stream",
          "name": "stdout",
          "text": [
            "answer is: 5\n"
          ]
        }
      ]
    },
    {
      "cell_type": "code",
      "source": [
        "def add(a,b):\n",
        "  result=a+b\n",
        "  print(\"answer is:\" , result)\n",
        "add(5,6)\n"
      ],
      "metadata": {
        "colab": {
          "base_uri": "https://localhost:8080/"
        },
        "id": "82lsdfO_O00-",
        "outputId": "59b25e1c-acf9-40d0-ac1e-c5a64c27c2e9"
      },
      "execution_count": 44,
      "outputs": [
        {
          "output_type": "stream",
          "name": "stdout",
          "text": [
            "answer is: 11\n"
          ]
        }
      ]
    },
    {
      "cell_type": "code",
      "source": [
        "def sub(a,b):\n",
        "  result=a-b\n",
        "  print(\"answer is:\" , result)\n",
        "sub(5,6)"
      ],
      "metadata": {
        "colab": {
          "base_uri": "https://localhost:8080/"
        },
        "id": "FYgw9SN_PVYd",
        "outputId": "2b1af8a7-8812-4b84-bd76-54bdb04075f4"
      },
      "execution_count": 46,
      "outputs": [
        {
          "output_type": "stream",
          "name": "stdout",
          "text": [
            "answer is: -1\n"
          ]
        }
      ]
    },
    {
      "cell_type": "code",
      "source": [
        "def multi(a,b):\n",
        "  result=a*b\n",
        "  return result\n",
        "answer = multi(10,6)\n",
        "print(answer)"
      ],
      "metadata": {
        "colab": {
          "base_uri": "https://localhost:8080/"
        },
        "id": "bGzWTkEkPoHl",
        "outputId": "d8af3241-1d5e-4f89-c0e0-d785bde6ff0b"
      },
      "execution_count": 48,
      "outputs": [
        {
          "output_type": "stream",
          "name": "stdout",
          "text": [
            "60\n"
          ]
        }
      ]
    },
    {
      "cell_type": "code",
      "source": [
        "def add(a,b):\n",
        " result=a+b\n",
        " return result\n",
        "answer = add(5,6)\n",
        "print(answer)"
      ],
      "metadata": {
        "colab": {
          "base_uri": "https://localhost:8080/"
        },
        "id": "mCWGI6g1RLa9",
        "outputId": "03de3525-dfae-4e6b-8776-99c660f7850b"
      },
      "execution_count": 54,
      "outputs": [
        {
          "output_type": "stream",
          "name": "stdout",
          "text": [
            "11\n"
          ]
        }
      ]
    },
    {
      "cell_type": "code",
      "source": [
        "def cal(a,b):\n",
        " result=a+b, a-b, a*b, a/b\n",
        " return result\n",
        "answer = cal(5,6)\n",
        "print(answer)"
      ],
      "metadata": {
        "colab": {
          "base_uri": "https://localhost:8080/"
        },
        "id": "OZhn0ieQSspG",
        "outputId": "19e7e5aa-a1f8-42df-c563-b15dfce2b2e7"
      },
      "execution_count": 56,
      "outputs": [
        {
          "output_type": "stream",
          "name": "stdout",
          "text": [
            "(11, -1, 30, 0.8333333333333334)\n"
          ]
        }
      ]
    },
    {
      "cell_type": "code",
      "source": [
        "def mul(a,b):\n",
        " result=a*b\n",
        " return result\n",
        "answer = mul(5,6)\n",
        "print(answer)"
      ],
      "metadata": {
        "colab": {
          "base_uri": "https://localhost:8080/"
        },
        "id": "PlQrCvOKTf5u",
        "outputId": "6452fa24-1d56-4ac2-94e9-a0c5ff472501"
      },
      "execution_count": 58,
      "outputs": [
        {
          "output_type": "stream",
          "name": "stdout",
          "text": [
            "30\n"
          ]
        }
      ]
    },
    {
      "cell_type": "code",
      "source": [
        "def add():\n",
        "  a,b = 2,4\n",
        "  result = a+b\n",
        "  return result, a,b\n",
        "\n",
        "answer, a,b = add()\n",
        "print(answer)\n",
        "print(a)\n",
        "print(b)"
      ],
      "metadata": {
        "colab": {
          "base_uri": "https://localhost:8080/"
        },
        "id": "3_3zoz0_UB_O",
        "outputId": "1bfc6d85-9828-4e8e-9b68-994874b4a2b8"
      },
      "execution_count": 59,
      "outputs": [
        {
          "output_type": "stream",
          "name": "stdout",
          "text": [
            "6\n",
            "2\n",
            "4\n"
          ]
        }
      ]
    },
    {
      "cell_type": "code",
      "source": [],
      "metadata": {
        "id": "HqZp-6NfVka0"
      },
      "execution_count": null,
      "outputs": []
    }
  ]
}